{
 "cells": [
  {
   "cell_type": "code",
   "execution_count": 4,
   "metadata": {},
   "outputs": [
    {
     "name": "stdout",
     "output_type": "stream",
     "text": [
      "+--------------------+\n",
      "|                 _c0|\n",
      "+--------------------+\n",
      "|the vinci code is...|\n",
      "|the vinci code is...|\n",
      "|family loved vinc...|\n",
      "|it is not a good ...|\n",
      "|i have seen bette...|\n",
      "|the vinci code is...|\n",
      "|this is a worst m...|\n",
      "|the vinci code is...|\n",
      "|movie was OK not bad|\n",
      "+--------------------+\n",
      "\n",
      "None\n"
     ]
    }
   ],
   "source": [
    "from pyspark.sql.session import SparkSession\n",
    "\n",
    "sc=SparkSession.builder.master('local').appName(\"wordCount\").getOrCreate()\n",
    "\n",
    "# print(type(sc))\n",
    "\n",
    "df=sc.read.csv(\"TweetData.txt\")\n",
    "print(df.show())"
   ]
  },
  {
   "cell_type": "code",
   "execution_count": 10,
   "metadata": {},
   "outputs": [
    {
     "name": "stdout",
     "output_type": "stream",
     "text": [
      "['the', 'vinci', 'code', 'is', 'good', 'movie', 'the', 'vinci', 'code', 'is', 'bad', 'movie', 'family', 'loved', 'vinci', 'code', 'movie', 'it', 'is', 'not', 'a', 'good', 'movie', 'i', 'have', 'seen', 'better', 'movies', 'the', 'vinci', 'code', 'is', 'good', 'movie', 'this', 'is', 'a', 'worst', 'movie', 'the', 'vinci', 'code', 'is', 'good', 'movie', 'movie', 'was', 'OK', 'not', 'bad']\n",
      "<class 'pyspark.rdd.PipelinedRDD'>\n"
     ]
    }
   ],
   "source": [
    "#A flatMap is a transformation operation. It applies to each element of RDD and it returns the result as new RDD\n",
    "df1=df.rdd.flatMap(lambda line:line[0].split(\" \")) \n",
    "print(df1.collect())\n",
    "print(type(df1))"
   ]
  },
  {
   "cell_type": "code",
   "execution_count": 12,
   "metadata": {},
   "outputs": [
    {
     "name": "stdout",
     "output_type": "stream",
     "text": [
      "[('the', 4), ('vinci', 5), ('code', 5), ('is', 6), ('good', 4), ('movie', 8), ('bad', 2), ('family', 1), ('loved', 1), ('it', 1), ('not', 2), ('a', 2), ('i', 1), ('have', 1), ('seen', 1), ('better', 1), ('movies', 1), ('this', 1), ('worst', 1), ('was', 1), ('OK', 1)]\n"
     ]
    }
   ],
   "source": [
    "\n",
    "df2=df1.map(lambda word:(word,1)).reduceByKey(lambda a,b:a+b)\n",
    "print(df2.collect())"
   ]
  },
  {
   "cell_type": "code",
   "execution_count": null,
   "metadata": {},
   "outputs": [],
   "source": []
  }
 ],
 "metadata": {
  "kernelspec": {
   "display_name": "Python 3",
   "language": "python",
   "name": "python3"
  },
  "language_info": {
   "codemirror_mode": {
    "name": "ipython",
    "version": 3
   },
   "file_extension": ".py",
   "mimetype": "text/x-python",
   "name": "python",
   "nbconvert_exporter": "python",
   "pygments_lexer": "ipython3",
   "version": "3.7.4"
  }
 },
 "nbformat": 4,
 "nbformat_minor": 2
}
